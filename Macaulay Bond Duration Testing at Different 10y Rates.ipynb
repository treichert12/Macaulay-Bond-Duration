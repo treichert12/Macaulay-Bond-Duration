{
 "cells": [
  {
   "cell_type": "code",
   "execution_count": 1,
   "metadata": {},
   "outputs": [],
   "source": [
    "import pandas as pd\n",
    "import numpy as np\n",
    "import matplotlib.pylab as plt"
   ]
  },
  {
   "cell_type": "code",
   "execution_count": 8,
   "metadata": {},
   "outputs": [],
   "source": [
    "#Different 10 Year Rates\n",
    "yields = []\n",
    "for i in range(5, 505, 5):\n",
    "    yields.append(i/10000)"
   ]
  },
  {
   "cell_type": "code",
   "execution_count": 14,
   "metadata": {},
   "outputs": [],
   "source": [
    "class duration:\n",
    "    def __init__(self, current_yield):\n",
    "        self.current_yield =  current_yield\n",
    "        fv = 1000\n",
    "        c = .05\n",
    "        price = 1020\n",
    "        n = 5\n",
    "        period = 2\n",
    "        ytm = ((fv*c)+((fv-price)/n))/((fv+price)/2)\n",
    "\n",
    "        years=[]\n",
    "        for x in range(1, n+1):\n",
    "            for y in range(0, period):\n",
    "                years.append(x)\n",
    "\n",
    "        periods = []\n",
    "        for i in range(1, (n*period)+1):\n",
    "            periods.append(i)\n",
    "\n",
    "        cash_flow = []\n",
    "        for i in range(1, len(periods)):\n",
    "            cash_flow.append((fv*c)/period)\n",
    "        cash_flow.append((fv*c)/period+fv)\n",
    "\n",
    "        df= pd.DataFrame(list(zip(years, periods, cash_flow)), columns=['Year', 'Payment Period', 'Cashflows'])\n",
    "\n",
    "        df['PV of CF'] = df['Cashflows'].div((1+(self.current_yield/period))**df['Payment Period'])\n",
    "        pv_all = df['PV of CF'].sum()\n",
    "        df['Duration of each cashflow'] =  df['Cashflows'].div((1+(ytm/period))**df['Payment Period'])*(df['Year']/pv_all)\n",
    "        self.duration = df['Duration of each cashflow'].sum()\n",
    "        self.df = df"
   ]
  },
  {
   "cell_type": "code",
   "execution_count": 15,
   "metadata": {},
   "outputs": [],
   "source": [
    "#Run Class for Each Yield\n",
    "for i in range(len(yields)):\n",
    "    globals()['y{}'.format(i)]= duration(yields[i])"
   ]
  },
  {
   "cell_type": "code",
   "execution_count": 16,
   "metadata": {},
   "outputs": [
    {
     "data": {
      "text/html": [
       "<div>\n",
       "<style scoped>\n",
       "    .dataframe tbody tr th:only-of-type {\n",
       "        vertical-align: middle;\n",
       "    }\n",
       "\n",
       "    .dataframe tbody tr th {\n",
       "        vertical-align: top;\n",
       "    }\n",
       "\n",
       "    .dataframe thead th {\n",
       "        text-align: right;\n",
       "    }\n",
       "</style>\n",
       "<table border=\"1\" class=\"dataframe\">\n",
       "  <thead>\n",
       "    <tr style=\"text-align: right;\">\n",
       "      <th></th>\n",
       "      <th>Year</th>\n",
       "      <th>Payment Period</th>\n",
       "      <th>Cashflows</th>\n",
       "      <th>PV of CF</th>\n",
       "      <th>Duration of each cashflow</th>\n",
       "    </tr>\n",
       "  </thead>\n",
       "  <tbody>\n",
       "    <tr>\n",
       "      <th>0</th>\n",
       "      <td>1</td>\n",
       "      <td>1</td>\n",
       "      <td>25.0</td>\n",
       "      <td>24.869435</td>\n",
       "      <td>0.020508</td>\n",
       "    </tr>\n",
       "    <tr>\n",
       "      <th>1</th>\n",
       "      <td>1</td>\n",
       "      <td>2</td>\n",
       "      <td>25.0</td>\n",
       "      <td>24.739553</td>\n",
       "      <td>0.020051</td>\n",
       "    </tr>\n",
       "    <tr>\n",
       "      <th>2</th>\n",
       "      <td>2</td>\n",
       "      <td>3</td>\n",
       "      <td>25.0</td>\n",
       "      <td>24.610348</td>\n",
       "      <td>0.039209</td>\n",
       "    </tr>\n",
       "    <tr>\n",
       "      <th>3</th>\n",
       "      <td>2</td>\n",
       "      <td>4</td>\n",
       "      <td>25.0</td>\n",
       "      <td>24.481819</td>\n",
       "      <td>0.038336</td>\n",
       "    </tr>\n",
       "    <tr>\n",
       "      <th>4</th>\n",
       "      <td>3</td>\n",
       "      <td>5</td>\n",
       "      <td>25.0</td>\n",
       "      <td>24.353961</td>\n",
       "      <td>0.056224</td>\n",
       "    </tr>\n",
       "    <tr>\n",
       "      <th>5</th>\n",
       "      <td>3</td>\n",
       "      <td>6</td>\n",
       "      <td>25.0</td>\n",
       "      <td>24.226770</td>\n",
       "      <td>0.054972</td>\n",
       "    </tr>\n",
       "    <tr>\n",
       "      <th>6</th>\n",
       "      <td>4</td>\n",
       "      <td>7</td>\n",
       "      <td>25.0</td>\n",
       "      <td>24.100244</td>\n",
       "      <td>0.071664</td>\n",
       "    </tr>\n",
       "    <tr>\n",
       "      <th>7</th>\n",
       "      <td>4</td>\n",
       "      <td>8</td>\n",
       "      <td>25.0</td>\n",
       "      <td>23.974378</td>\n",
       "      <td>0.070069</td>\n",
       "    </tr>\n",
       "    <tr>\n",
       "      <th>8</th>\n",
       "      <td>5</td>\n",
       "      <td>9</td>\n",
       "      <td>25.0</td>\n",
       "      <td>23.849170</td>\n",
       "      <td>0.085636</td>\n",
       "    </tr>\n",
       "    <tr>\n",
       "      <th>9</th>\n",
       "      <td>5</td>\n",
       "      <td>10</td>\n",
       "      <td>1025.0</td>\n",
       "      <td>972.709254</td>\n",
       "      <td>3.432884</td>\n",
       "    </tr>\n",
       "  </tbody>\n",
       "</table>\n",
       "</div>"
      ],
      "text/plain": [
       "   Year  Payment Period  Cashflows    PV of CF  Duration of each cashflow\n",
       "0     1               1       25.0   24.869435                   0.020508\n",
       "1     1               2       25.0   24.739553                   0.020051\n",
       "2     2               3       25.0   24.610348                   0.039209\n",
       "3     2               4       25.0   24.481819                   0.038336\n",
       "4     3               5       25.0   24.353961                   0.056224\n",
       "5     3               6       25.0   24.226770                   0.054972\n",
       "6     4               7       25.0   24.100244                   0.071664\n",
       "7     4               8       25.0   23.974378                   0.070069\n",
       "8     5               9       25.0   23.849170                   0.085636\n",
       "9     5              10     1025.0  972.709254                   3.432884"
      ]
     },
     "execution_count": 16,
     "metadata": {},
     "output_type": "execute_result"
    }
   ],
   "source": [
    "y20.df"
   ]
  },
  {
   "cell_type": "code",
   "execution_count": 18,
   "metadata": {},
   "outputs": [
    {
     "data": {
      "image/png": "[encoded data removed]",
      "text/plain": [
       "<Figure size 1008x504 with 1 Axes>"
      ]
     },
     "metadata": {
      "needs_background": "light"
     },
     "output_type": "display_data"
    }
   ],
   "source": [
    "#Graph Durations\n",
    "fig, (ax1) = plt.subplots(figsize=(14,7))\n",
    "\n",
    "ax1.set_ylabel('Duration')\n",
    "ax1.set_xlabel('Yield')\n",
    "for i in range(len(yields)):\n",
    "    ax1.scatter(yields[i], globals()['y{}'.format(i)].duration)"
   ]
  },
  {
   "cell_type": "code",
   "execution_count": null,
   "metadata": {},
   "outputs": [],
   "source": []
  }
 ],
 "metadata": {
  "kernelspec": {
   "display_name": "Python 3",
   "language": "python",
   "name": "python3"
  },
  "language_info": {
   "codemirror_mode": {
    "name": "ipython",
    "version": 3
   },
   "file_extension": ".py",
   "mimetype": "text/x-python",
   "name": "python",
   "nbconvert_exporter": "python",
   "pygments_lexer": "ipython3",
   "version": "3.8.5"
  }
 },
 "nbformat": 4,
 "nbformat_minor": 4
}
