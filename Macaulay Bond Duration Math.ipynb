{
 "cells": [
  {
   "cell_type": "code",
   "execution_count": 1,
   "metadata": {},
   "outputs": [],
   "source": [
    "import pandas as pd"
   ]
  },
  {
   "cell_type": "code",
   "execution_count": 4,
   "metadata": {},
   "outputs": [
    {
     "name": "stdout",
     "output_type": "stream",
     "text": [
      "   Year  Payment Period  Cashflows    PV of CF  Duration of each cashflow\n",
      "0     1               1       25.0   24.844720                   0.020693\n",
      "1     1               2       25.0   24.690405                   0.020233\n",
      "2     2               3       25.0   24.537049                   0.039564\n",
      "3     2               4       25.0   24.384645                   0.038684\n",
      "4     3               5       25.0   24.233187                   0.056733\n",
      "5     3               6       25.0   24.082671                   0.055470\n",
      "6     4               7       25.0   23.933089                   0.072313\n",
      "7     4               8       25.0   23.784436                   0.070703\n",
      "8     5               9       25.0   23.636707                   0.086411\n",
      "9     5              10     1025.0  963.085694                   3.463988\n",
      "Duration = 3.924793564806272\n"
     ]
    }
   ],
   "source": [
    "#Inputs\n",
    "fv = 1000\n",
    "c = .05\n",
    "price = 1020\n",
    "n = 5\n",
    "period = 2\n",
    "current_yield = .0125\n",
    "ytm = ((fv*c)+((fv-price)/n))/((fv+price)/2)\n",
    "\n",
    "#Year for each cashflow period\n",
    "years=[]\n",
    "for x in range(1, n+1):\n",
    "    for y in range(0, period):\n",
    "        years.append(x)\n",
    "\n",
    "#Number of total cashflow periods\n",
    "periods = []\n",
    "for i in range(1, (n*period)+1):\n",
    "    periods.append(i)\n",
    "\n",
    "#Cashflows\n",
    "cash_flow = []\n",
    "for i in range(1, len(periods)):\n",
    "    cash_flow.append((fv*c)/period)\n",
    "cash_flow.append((fv*c)/period+fv)\n",
    "\n",
    "#Create dataframe\n",
    "df= pd.DataFrame(list(zip(years, periods, cash_flow)), columns=['Year', 'Payment Period', 'Cashflows'])\n",
    "\n",
    "#Present Value of each cashflow\n",
    "df['PV of CF'] = df['Cashflows'].div((1+(current_yield/period))**df['Payment Period'])\n",
    "pv_all = df['PV of CF'].sum()\n",
    "\n",
    "#Macaulay Duration Calculation\n",
    "df['Duration of each cashflow'] =  df['Cashflows'].div((1+(ytm/period))**df['Payment Period'])*(df['Year']/pv_all)\n",
    "duration = df['Duration of each cashflow'].sum()\n",
    "print(df)\n",
    "print('Duration = ' + str(duration))"
   ]
  },
  {
   "cell_type": "code",
   "execution_count": null,
   "metadata": {},
   "outputs": [],
   "source": []
  }
 ],
 "metadata": {
  "kernelspec": {
   "display_name": "Python 3",
   "language": "python",
   "name": "python3"
  },
  "language_info": {
   "codemirror_mode": {
    "name": "ipython",
    "version": 3
   },
   "file_extension": ".py",
   "mimetype": "text/x-python",
   "name": "python",
   "nbconvert_exporter": "python",
   "pygments_lexer": "ipython3",
   "version": "3.8.5"
  }
 },
 "nbformat": 4,
 "nbformat_minor": 4
}
